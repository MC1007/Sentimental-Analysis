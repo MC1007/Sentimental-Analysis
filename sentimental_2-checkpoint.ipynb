{
 "cells": [
  {
   "cell_type": "code",
   "execution_count": 57,
   "id": "9d4758f8",
   "metadata": {},
   "outputs": [],
   "source": [
    "import pandas as pd \n",
    "import requests\n",
    "from bs4 import BeautifulSoup\n",
    "from selenium import webdriver\n",
    "from textblob import TextBlob\n",
    "import scrapy\n",
    "from vaderSentiment.vaderSentiment import SentimentIntensityAnalyzer\n",
    "import nltk\n",
    "from nltk.tokenize import word_tokenize\n",
    "from nltk.corpus import stopwords\n",
    "import re"
   ]
  },
  {
   "cell_type": "code",
   "execution_count": 58,
   "id": "779669cc",
   "metadata": {},
   "outputs": [
    {
     "name": "stdout",
     "output_type": "stream",
     "text": [
      "https://insights.blackcoffer.com/ai-in-healthcare-to-improve-patient-outcomes/\n"
     ]
    }
   ],
   "source": [
    "# Specify the URL of the webpage to be scraped\n",
    "#url = df['URL']\n",
    "url = 'https://insights.blackcoffer.com/ai-in-healthcare-to-improve-patient-outcomes/'\n",
    "print(url)"
   ]
  },
  {
   "cell_type": "code",
   "execution_count": 118,
   "id": "20713bb5",
   "metadata": {},
   "outputs": [],
   "source": [
    "positive_negative_words = pd.read_excel(r\"C:\\Users\\bhava\\Desktop\\positive and negative words.xlsx\")"
   ]
  },
  {
   "cell_type": "code",
   "execution_count": 119,
   "id": "a5a8a166",
   "metadata": {},
   "outputs": [
    {
     "data": {
      "text/html": [
       "<div>\n",
       "<style scoped>\n",
       "    .dataframe tbody tr th:only-of-type {\n",
       "        vertical-align: middle;\n",
       "    }\n",
       "\n",
       "    .dataframe tbody tr th {\n",
       "        vertical-align: top;\n",
       "    }\n",
       "\n",
       "    .dataframe thead th {\n",
       "        text-align: right;\n",
       "    }\n",
       "</style>\n",
       "<table border=\"1\" class=\"dataframe\">\n",
       "  <thead>\n",
       "    <tr style=\"text-align: right;\">\n",
       "      <th></th>\n",
       "      <th>positive words</th>\n",
       "      <th>negative words</th>\n",
       "    </tr>\n",
       "  </thead>\n",
       "  <tbody>\n",
       "    <tr>\n",
       "      <th>0</th>\n",
       "      <td>a+</td>\n",
       "      <td>2-faced</td>\n",
       "    </tr>\n",
       "    <tr>\n",
       "      <th>1</th>\n",
       "      <td>abound</td>\n",
       "      <td>2-faces</td>\n",
       "    </tr>\n",
       "    <tr>\n",
       "      <th>2</th>\n",
       "      <td>abounds</td>\n",
       "      <td>abnormal</td>\n",
       "    </tr>\n",
       "    <tr>\n",
       "      <th>3</th>\n",
       "      <td>abundance</td>\n",
       "      <td>abolish</td>\n",
       "    </tr>\n",
       "    <tr>\n",
       "      <th>4</th>\n",
       "      <td>abundant</td>\n",
       "      <td>abominable</td>\n",
       "    </tr>\n",
       "  </tbody>\n",
       "</table>\n",
       "</div>"
      ],
      "text/plain": [
       "  positive words negative words\n",
       "0             a+        2-faced\n",
       "1         abound        2-faces\n",
       "2        abounds       abnormal\n",
       "3      abundance        abolish\n",
       "4       abundant     abominable"
      ]
     },
     "execution_count": 119,
     "metadata": {},
     "output_type": "execute_result"
    }
   ],
   "source": [
    "positive_negative_words.head()"
   ]
  },
  {
   "cell_type": "code",
   "execution_count": 120,
   "id": "953ca976",
   "metadata": {},
   "outputs": [],
   "source": [
    "Positive_words_list = positive_negative_words['positive words'].tolist() # predefine the list"
   ]
  },
  {
   "cell_type": "code",
   "execution_count": 121,
   "id": "0fd4e4f7",
   "metadata": {},
   "outputs": [],
   "source": [
    "negative_words_list = positive_negative_words['negative words'].tolist() # predefine the list"
   ]
  },
  {
   "cell_type": "code",
   "execution_count": 59,
   "id": "ad4d3b5e",
   "metadata": {},
   "outputs": [],
   "source": [
    "r = requests.get(url)\n",
    "htmlcontent = r.content"
   ]
  },
  {
   "cell_type": "code",
   "execution_count": 60,
   "id": "a22ffa0d",
   "metadata": {},
   "outputs": [],
   "source": [
    "# Send a request to the webpage and store the response as a variable\n",
    "r = requests.get(url)\n",
    "htmlcontent = r.content\n",
    "#print(htmlcontent)"
   ]
  },
  {
   "cell_type": "code",
   "execution_count": 61,
   "id": "ee4179c4",
   "metadata": {},
   "outputs": [],
   "source": [
    "soup =  BeautifulSoup(htmlcontent,'html.parser')\n",
    "#print(soup)"
   ]
  },
  {
   "cell_type": "code",
   "execution_count": 62,
   "id": "ddbda167",
   "metadata": {},
   "outputs": [],
   "source": [
    "# Extract all text from the webpage\n",
    "text = soup.get_text()\n",
    "#print (text)"
   ]
  },
  {
   "cell_type": "code",
   "execution_count": 63,
   "id": "5cb5afa6",
   "metadata": {},
   "outputs": [],
   "source": [
    "# Remove stop words from the extracted text\n",
    "stop_words = set(stopwords.words('english'))\n",
    "words = text.split()\n",
    "filtered_words = [word for word in words if word.lower() not in stop_words]\n",
    "filtered_text = ' '.join(filtered_words)"
   ]
  },
  {
   "cell_type": "code",
   "execution_count": 67,
   "id": "bd06817e",
   "metadata": {},
   "outputs": [],
   "source": [
    "# print(filtered_words)\n",
    "# print(filtered_text)"
   ]
  },
  {
   "cell_type": "markdown",
   "id": "8701ab3f",
   "metadata": {},
   "source": []
  },
  {
   "cell_type": "code",
   "execution_count": 122,
   "id": "ae6f46a2",
   "metadata": {},
   "outputs": [
    {
     "name": "stdout",
     "output_type": "stream",
     "text": [
      "Positive word count: 82\n",
      "negative word count: 33\n"
     ]
    }
   ],
   "source": [
    "# Tokenize the input statement into words\n",
    "statement = filtered_text\n",
    "words = nltk.word_tokenize(statement)\n",
    "\n",
    "# Initialize a counter variable\n",
    "positive_score = 0\n",
    "negative_score = 0\n",
    "# Iterate over each word and count positive words\n",
    "for word in words:\n",
    "    if word in Positive_words_list:\n",
    "        positive_score += 1\n",
    "    if word in negative_words_list:\n",
    "        negative_score +=1\n",
    "\n",
    "# Print the count of positive words\n",
    "print(\"Positive word count:\", positive_score)\n",
    "print(\"negative word count:\", negative_score)"
   ]
  },
  {
   "cell_type": "code",
   "execution_count": 111,
   "id": "8c75591e",
   "metadata": {
    "scrolled": true
   },
   "outputs": [
    {
     "name": "stdout",
     "output_type": "stream",
     "text": [
      "1858\n"
     ]
    }
   ],
   "source": [
    "total_words = len(filtered_words) # total words after cleaning\n",
    "print(size)"
   ]
  },
  {
   "cell_type": "code",
   "execution_count": 123,
   "id": "b95d9621",
   "metadata": {},
   "outputs": [
    {
     "data": {
      "text/plain": [
       "0.4260869528166352"
      ]
     },
     "execution_count": 123,
     "metadata": {},
     "output_type": "execute_result"
    }
   ],
   "source": [
    "Polarity_Score = (positive_score - negative_score)/ ((positive_score + negative_score) + 0.000001)\n",
    "Polarity_Score"
   ]
  },
  {
   "cell_type": "code",
   "execution_count": 124,
   "id": "61f80f80",
   "metadata": {},
   "outputs": [
    {
     "data": {
      "text/plain": [
       "0.061894510192737076"
      ]
     },
     "execution_count": 124,
     "metadata": {},
     "output_type": "execute_result"
    }
   ],
   "source": [
    "Subjectivity_Score = (positive_score + negative_score)/ ((size) + 0.000001)\n",
    "Subjectivity_Score"
   ]
  },
  {
   "cell_type": "code",
   "execution_count": null,
   "id": "f17c6e39",
   "metadata": {},
   "outputs": [],
   "source": []
  }
 ],
 "metadata": {
  "kernelspec": {
   "display_name": "Python 3 (ipykernel)",
   "language": "python",
   "name": "python3"
  },
  "language_info": {
   "codemirror_mode": {
    "name": "ipython",
    "version": 3
   },
   "file_extension": ".py",
   "mimetype": "text/x-python",
   "name": "python",
   "nbconvert_exporter": "python",
   "pygments_lexer": "ipython3",
   "version": "3.9.12"
  }
 },
 "nbformat": 4,
 "nbformat_minor": 5
}
